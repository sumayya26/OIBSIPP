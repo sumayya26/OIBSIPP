{
  "nbformat": 4,
  "nbformat_minor": 0,
  "metadata": {
    "colab": {
      "provenance": []
    },
    "kernelspec": {
      "name": "python3",
      "display_name": "Python 3"
    },
    "language_info": {
      "name": "python"
    }
  },
  "cells": [
    {
      "cell_type": "code",
      "execution_count": null,
      "metadata": {
        "id": "fBzT4NFKUakr"
      },
      "outputs": [],
      "source": [
        "import pandas as pd\n",
        "import matplotlib.pyplot as plt"
      ]
    },
    {
      "cell_type": "code",
      "source": [
        "df = pd.read_csv(\"AB_NYC_2019.csv\", on_bad_lines='skip')\n",
        "print(\"✅ Dataset Loaded Successfully After Skipping Bad Lines\")\n",
        "print(\"Dataset Shape:\", df.shape)\n",
        "print(\"\\nColumn Names:\\n\", df.columns)\n"
      ],
      "metadata": {
        "colab": {
          "base_uri": "https://localhost:8080/"
        },
        "id": "JCSn2sHNVlST",
        "outputId": "cf3ad39f-d6f5-4150-b194-cf52c9744851"
      },
      "execution_count": null,
      "outputs": [
        {
          "output_type": "stream",
          "name": "stdout",
          "text": [
            "✅ Dataset Loaded Successfully After Skipping Bad Lines\n",
            "Dataset Shape: (90399, 16)\n",
            "\n",
            "Column Names:\n",
            " Index(['id', 'name', 'host_id', 'host_name', 'neighbourhood_group',\n",
            "       'neighbourhood', 'latitude', 'longitude', 'room_type', 'price',\n",
            "       'minimum_nights', 'number_of_reviews', 'last_review',\n",
            "       'reviews_per_month', 'calculated_host_listings_count',\n",
            "       'availability_365'],\n",
            "      dtype='object')\n"
          ]
        },
        {
          "output_type": "stream",
          "name": "stderr",
          "text": [
            "/tmp/ipython-input-704266403.py:1: DtypeWarning: Columns (0,2,11) have mixed types. Specify dtype option on import or set low_memory=False.\n",
            "  df = pd.read_csv(\"AB_NYC_2019.csv\", on_bad_lines='skip')\n"
          ]
        }
      ]
    },
    {
      "cell_type": "code",
      "source": [
        "df = pd.read_csv(\"AB_NYC_2019.csv\", on_bad_lines='skip')\n",
        "\n",
        "# Check overall data structure\n",
        "print(\"✅ Dataset Loaded Successfully!\")\n",
        "print(\"Dataset Shape:\", df.shape)\n",
        "print(\"\\nColumn Data Types:\\n\", df.dtypes)\n",
        "print(\"\\nMissing Values:\\n\", df.isnull().sum())\n",
        "print(\"\\nUnique Neighbourhood Groups:\", df['neighbourhood_group'].unique())\n",
        "print(\"Unique Room Types:\", df['room_type'].unique())\n",
        "print(\"\\nSummary Statistics:\\n\")\n",
        "print(df.describe())"
      ],
      "metadata": {
        "colab": {
          "base_uri": "https://localhost:8080/"
        },
        "id": "WDAQlDa3V7o5",
        "outputId": "0a835890-fd07-47dc-fbdc-22d5a1b1cf5c"
      },
      "execution_count": null,
      "outputs": [
        {
          "output_type": "stream",
          "name": "stdout",
          "text": [
            "✅ Dataset Loaded Successfully!\n",
            "Dataset Shape: (90399, 16)\n",
            "\n",
            "Column Data Types:\n",
            " id                                 object\n",
            "name                               object\n",
            "host_id                            object\n",
            "host_name                          object\n",
            "neighbourhood_group                object\n",
            "neighbourhood                      object\n",
            "latitude                          float64\n",
            "longitude                          object\n",
            "room_type                          object\n",
            "price                               int64\n",
            "minimum_nights                      int64\n",
            "number_of_reviews                  object\n",
            "last_review                        object\n",
            "reviews_per_month                 float64\n",
            "calculated_host_listings_count    float64\n",
            "availability_365                  float64\n",
            "dtype: object\n",
            "\n",
            "Missing Values:\n",
            " id                                    0\n",
            "name                                 25\n",
            "host_id                               0\n",
            "host_name                            37\n",
            "neighbourhood_group                   0\n",
            "neighbourhood                         0\n",
            "latitude                              0\n",
            "longitude                             0\n",
            "room_type                             0\n",
            "price                                 0\n",
            "minimum_nights                        0\n",
            "number_of_reviews                     4\n",
            "last_review                       19282\n",
            "reviews_per_month                 19280\n",
            "calculated_host_listings_count        2\n",
            "availability_365                      5\n",
            "dtype: int64\n",
            "\n",
            "Unique Neighbourhood Groups: ['Brooklyn' 'Manhattan' 'Queens' 'Staten Island' 'Bronx' '99' 'Park Slope'\n",
            " 'Pelham Bay' 'Midtown']\n",
            "Unique Room Types: ['Private room' 'Entire home/apt' 'Shared room' '0.15' '54' '299' '450']\n",
            "\n",
            "Summary Statistics:\n",
            "\n",
            "           latitude         price  minimum_nights  reviews_per_month  \\\n",
            "count  90399.000000  90399.000000    90399.000000       71119.000000   \n",
            "mean      40.724304    151.527550        6.910818           1.417752   \n",
            "std        0.684929    236.657881       19.573535           1.722613   \n",
            "min      -73.985410      0.000000        0.000000           0.010000   \n",
            "25%       40.690180     68.000000        1.000000           0.200000   \n",
            "50%       40.723040    105.000000        2.000000           0.760000   \n",
            "75%       40.763075    175.000000        5.000000           2.100000   \n",
            "max       40.913060  10000.000000     1250.000000          58.500000   \n",
            "\n",
            "       calculated_host_listings_count  availability_365  \n",
            "count                    90397.000000      90394.000000  \n",
            "mean                         7.516145        111.108149  \n",
            "std                         34.210151        130.915532  \n",
            "min                          0.000000          0.000000  \n",
            "25%                          1.000000          0.000000  \n",
            "50%                          1.000000         43.000000  \n",
            "75%                          2.000000        220.000000  \n",
            "max                        361.000000        365.000000  \n"
          ]
        },
        {
          "output_type": "stream",
          "name": "stderr",
          "text": [
            "/tmp/ipython-input-1302571838.py:1: DtypeWarning: Columns (0,2,11) have mixed types. Specify dtype option on import or set low_memory=False.\n",
            "  df = pd.read_csv(\"AB_NYC_2019.csv\", on_bad_lines='skip')\n"
          ]
        }
      ]
    },
    {
      "cell_type": "code",
      "source": [
        "# ---  Missing Data Handling ---\n",
        "\n",
        "print(\"Missing Values Before Handling:\\n\")\n",
        "print(df.isnull().sum())\n",
        "df['name'].fillna(\"No Name\", inplace=True)\n",
        "df['host_name'].fillna(\"Unknown\", inplace=True)\n",
        "df['reviews_per_month'].fillna(0, inplace=True)\n",
        "df['last_review'].fillna(\"No Review\", inplace=True)\n",
        "print(\"\\nMissing Values After Handling:\\n\")\n",
        "print(df.isnull().sum())\n"
      ],
      "metadata": {
        "colab": {
          "base_uri": "https://localhost:8080/"
        },
        "id": "Z87eMeLXWANM",
        "outputId": "012a7bcd-4866-4fb1-dc7a-901a3e9418da"
      },
      "execution_count": null,
      "outputs": [
        {
          "output_type": "stream",
          "name": "stdout",
          "text": [
            "Missing Values Before Handling:\n",
            "\n",
            "id                                    0\n",
            "name                                 25\n",
            "host_id                               0\n",
            "host_name                            37\n",
            "neighbourhood_group                   0\n",
            "neighbourhood                         0\n",
            "latitude                              0\n",
            "longitude                             0\n",
            "room_type                             0\n",
            "price                                 0\n",
            "minimum_nights                        0\n",
            "number_of_reviews                     4\n",
            "last_review                       19282\n",
            "reviews_per_month                 19280\n",
            "calculated_host_listings_count        2\n",
            "availability_365                      5\n",
            "dtype: int64\n",
            "\n",
            "Missing Values After Handling:\n",
            "\n",
            "id                                0\n",
            "name                              0\n",
            "host_id                           0\n",
            "host_name                         0\n",
            "neighbourhood_group               0\n",
            "neighbourhood                     0\n",
            "latitude                          0\n",
            "longitude                         0\n",
            "room_type                         0\n",
            "price                             0\n",
            "minimum_nights                    0\n",
            "number_of_reviews                 4\n",
            "last_review                       0\n",
            "reviews_per_month                 0\n",
            "calculated_host_listings_count    2\n",
            "availability_365                  5\n",
            "dtype: int64\n"
          ]
        },
        {
          "output_type": "stream",
          "name": "stderr",
          "text": [
            "/tmp/ipython-input-2941915813.py:8: FutureWarning: A value is trying to be set on a copy of a DataFrame or Series through chained assignment using an inplace method.\n",
            "The behavior will change in pandas 3.0. This inplace method will never work because the intermediate object on which we are setting values always behaves as a copy.\n",
            "\n",
            "For example, when doing 'df[col].method(value, inplace=True)', try using 'df.method({col: value}, inplace=True)' or df[col] = df[col].method(value) instead, to perform the operation inplace on the original object.\n",
            "\n",
            "\n",
            "  df['name'].fillna(\"No Name\", inplace=True)\n",
            "/tmp/ipython-input-2941915813.py:9: FutureWarning: A value is trying to be set on a copy of a DataFrame or Series through chained assignment using an inplace method.\n",
            "The behavior will change in pandas 3.0. This inplace method will never work because the intermediate object on which we are setting values always behaves as a copy.\n",
            "\n",
            "For example, when doing 'df[col].method(value, inplace=True)', try using 'df.method({col: value}, inplace=True)' or df[col] = df[col].method(value) instead, to perform the operation inplace on the original object.\n",
            "\n",
            "\n",
            "  df['host_name'].fillna(\"Unknown\", inplace=True)\n",
            "/tmp/ipython-input-2941915813.py:10: FutureWarning: A value is trying to be set on a copy of a DataFrame or Series through chained assignment using an inplace method.\n",
            "The behavior will change in pandas 3.0. This inplace method will never work because the intermediate object on which we are setting values always behaves as a copy.\n",
            "\n",
            "For example, when doing 'df[col].method(value, inplace=True)', try using 'df.method({col: value}, inplace=True)' or df[col] = df[col].method(value) instead, to perform the operation inplace on the original object.\n",
            "\n",
            "\n",
            "  df['reviews_per_month'].fillna(0, inplace=True)\n",
            "/tmp/ipython-input-2941915813.py:11: FutureWarning: A value is trying to be set on a copy of a DataFrame or Series through chained assignment using an inplace method.\n",
            "The behavior will change in pandas 3.0. This inplace method will never work because the intermediate object on which we are setting values always behaves as a copy.\n",
            "\n",
            "For example, when doing 'df[col].method(value, inplace=True)', try using 'df.method({col: value}, inplace=True)' or df[col] = df[col].method(value) instead, to perform the operation inplace on the original object.\n",
            "\n",
            "\n",
            "  df['last_review'].fillna(\"No Review\", inplace=True)\n"
          ]
        }
      ]
    },
    {
      "cell_type": "code",
      "source": [
        "# --- Duplicate Removal ---\n",
        "\n",
        "# Count duplicate rows\n",
        "print(\"Duplicate Rows Before Removal:\", df.duplicated().sum())\n",
        "df.drop_duplicates(inplace=True)\n",
        "print(\"Duplicate Rows After Removal:\", df.duplicated().sum())\n",
        "print(\"Dataset Shape After Removing Duplicates:\", df.shape)\n"
      ],
      "metadata": {
        "colab": {
          "base_uri": "https://localhost:8080/"
        },
        "id": "48kmf3BoWHIz",
        "outputId": "e25b44f3-71b7-4896-fa66-bd53398fb1d3"
      },
      "execution_count": null,
      "outputs": [
        {
          "output_type": "stream",
          "name": "stdout",
          "text": [
            "Duplicate Rows Before Removal: 16589\n",
            "Duplicate Rows After Removal: 0\n",
            "Dataset Shape After Removing Duplicates: (73810, 16)\n"
          ]
        }
      ]
    },
    {
      "cell_type": "code",
      "source": [
        "# ---  Standardization ---\n",
        "\n",
        "# Convert categorical columns to lowercase for consistency\n",
        "df['neighbourhood_group'] = df['neighbourhood_group'].str.lower()\n",
        "df['neighbourhood'] = df['neighbourhood'].str.lower()\n",
        "df['room_type'] = df['room_type'].str.lower()\n",
        "df['last_review'] = pd.to_datetime(df['last_review'], errors='coerce')\n",
        "print(\"\\nStandardized Column Samples:\")\n",
        "print(df[['neighbourhood_group', 'neighbourhood', 'room_type']].head())\n",
        "print(\"\\nData Types After Standardization:\\n\", df.dtypes)\n"
      ],
      "metadata": {
        "colab": {
          "base_uri": "https://localhost:8080/"
        },
        "id": "7X80nA5LWL6C",
        "outputId": "144d87e0-f93d-42e4-9ea1-cda2df2e78b8"
      },
      "execution_count": null,
      "outputs": [
        {
          "output_type": "stream",
          "name": "stdout",
          "text": [
            "\n",
            "Standardized Column Samples:\n",
            "  neighbourhood_group neighbourhood        room_type\n",
            "0            brooklyn    kensington     private room\n",
            "1           manhattan       midtown  entire home/apt\n",
            "2           manhattan        harlem     private room\n",
            "3            brooklyn  clinton hill  entire home/apt\n",
            "4           manhattan   east harlem  entire home/apt\n",
            "\n",
            "Data Types After Standardization:\n",
            " id                                        object\n",
            "name                                      object\n",
            "host_id                                   object\n",
            "host_name                                 object\n",
            "neighbourhood_group                       object\n",
            "neighbourhood                             object\n",
            "latitude                                 float64\n",
            "longitude                                 object\n",
            "room_type                                 object\n",
            "price                                      int64\n",
            "minimum_nights                             int64\n",
            "number_of_reviews                         object\n",
            "last_review                       datetime64[ns]\n",
            "reviews_per_month                        float64\n",
            "calculated_host_listings_count           float64\n",
            "availability_365                         float64\n",
            "dtype: object\n"
          ]
        }
      ]
    },
    {
      "cell_type": "code",
      "source": [
        "# ---  Outlier Detection ---\n",
        "\n",
        "# Detect potential outliers in 'price'\n",
        "plt.figure(figsize=(8, 5))\n",
        "plt.boxplot(df['price'])\n",
        "plt.title(\"Boxplot - Price Outliers\")\n",
        "plt.ylabel(\"Price\")\n",
        "plt.show()\n",
        "df = df[df['price'] <= 1000]\n",
        "print(\"Dataset Shape After Outlier Removal:\", df.shape)\n",
        "print(\"Price Summary After Cleaning:\\n\", df['price'].describe())\n"
      ],
      "metadata": {
        "colab": {
          "base_uri": "https://localhost:8080/",
          "height": 659
        },
        "id": "5NQiQ39yWZVF",
        "outputId": "33a252fb-f181-4865-d4c7-222b94313558"
      },
      "execution_count": null,
      "outputs": [
        {
          "output_type": "display_data",
          "data": {
            "text/plain": [
              "<Figure size 800x500 with 1 Axes>"
            ],
            "image/png": "[encoded data removed]"
          },
          "metadata": {}
        },
        {
          "output_type": "stream",
          "name": "stdout",
          "text": [
            "Dataset Shape After Outlier Removal: (73455, 16)\n",
            "Price Summary After Cleaning:\n",
            " count    73455.000000\n",
            "mean       139.610238\n",
            "std        116.340658\n",
            "min          0.000000\n",
            "25%         66.000000\n",
            "50%        100.000000\n",
            "75%        175.000000\n",
            "max       1000.000000\n",
            "Name: price, dtype: float64\n"
          ]
        }
      ]
    }
  ]
}